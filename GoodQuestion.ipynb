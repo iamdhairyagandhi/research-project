{
 "cells": [
  {
   "cell_type": "code",
   "execution_count": 1,
   "id": "26fa6f12",
   "metadata": {
    "scrolled": true
   },
   "outputs": [],
   "source": [
    "import nltk\n",
    "import re\n",
    "# from nltk.corpus import stopwords\n",
    "# nltk.download('stopwords')\n",
    "# # from nltk.tokenize import word_tokenize\n",
    "# nltk.download('punkt')\n",
    "from nltk.corpus import stopwords\n",
    "from nltk.tokenize import word_tokenize"
   ]
  },
  {
   "cell_type": "code",
   "execution_count": 2,
   "id": "2ee5b875",
   "metadata": {},
   "outputs": [],
   "source": [
    "def get_story_words_relevance(story):\n",
    "    num_unique_words = 0\n",
    "    story_unique_words_rel = {} \n",
    "    for i in story:\n",
    "        if not i in story_unique_words_rel:\n",
    "            story_unique_words_rel[i] = 1\n",
    "            num_unique_words += 1\n",
    "        else:\n",
    "            story_unique_words_rel[i] += 1\n",
    "    for word in story_unique_words_rel:\n",
    "        story_unique_words_rel[word] /= num_unique_words\n",
    "    return [story_unique_words_rel, num_unique_words]"
   ]
  },
  {
   "cell_type": "code",
   "execution_count": 3,
   "id": "291bd82c",
   "metadata": {
    "scrolled": true
   },
   "outputs": [],
   "source": [
    "def process_story():\n",
    "    f = open(\"story.txt\", \"r\")\n",
    "    story = f.read()\n",
    "\n",
    "    story = re.sub(r'[^\\w\\s]', '', story)\n",
    "    stop_words = set(stopwords.words('english'))\n",
    "    story = story.lower()\n",
    "    word_tokens = word_tokenize(story)\n",
    "\n",
    "    filtered_story = [w for w in word_tokens if not w.lower() in stop_words]\n",
    "\n",
    "    filtered_story = []\n",
    "\n",
    "    for w in word_tokens:\n",
    "        if w not in stop_words:\n",
    "            filtered_story.append(w)\n",
    "\n",
    "    f.close()\n",
    "    return get_story_words_relevance(filtered_story)"
   ]
  },
  {
   "cell_type": "code",
   "execution_count": 4,
   "id": "f35bd8b4",
   "metadata": {},
   "outputs": [],
   "source": [
    "def get_question_relevance(story_words_relevance, question, story_unique_words):\n",
    "    \"\"\"Calculating the relevance of question by first calculating sum of \n",
    "        relevance of each word in the question. Then we check what range out of the decided ranges(see readme), this falls into\"\"\"\n",
    "    relevance = 0\n",
    "    for word in question:\n",
    "        if word in story_words_relevance:\n",
    "            relevance += story_words_relevance[word]\n",
    "            \n",
    "    if relevance <= (0.0005*story_unique_words):\n",
    "        return 1\n",
    "    elif relevance > (0.0005*story_unique_words) and relevance <= (0.001*story_unique_words):\n",
    "        return 3\n",
    "    elif relevance > (0.001*story_unique_words) and relevance <= (0.002*story_unique_words):\n",
    "        return 4\n",
    "    elif relevance > (0.002*story_unique_words) and relevance <= (0.003*story_unique_words):\n",
    "        return 5\n",
    "    elif relevance > (0.003*story_unique_words) and relevance <= (0.004*story_unique_words):\n",
    "        return 6\n",
    "    elif relevance > (0.004*story_unique_words) and relevance <= (0.005*story_unique_words):\n",
    "        return 7\n",
    "    else:\n",
    "        return 8"
   ]
  },
  {
   "cell_type": "code",
   "execution_count": 5,
   "id": "63d0db1e",
   "metadata": {},
   "outputs": [],
   "source": [
    "\n",
    "def p(u_questions, params):\n",
    "    for i in range(0, len(u_questions)):\n",
    "        question_a = u_questions[i]\n",
    "        if(\"?\\n\" in question_a) or (\"?\" in question_a):\n",
    "            first_words_lst = [[\"where\", \"when\", \"which\", \"who\"],[\"what\", \"do\", \"does\", \"would\", \"could\", \"should\"],[\"why\", \"to what extent\", \"how\"]]\n",
    "            if(\".\\n\" in question_a) or (\".\" in question_a):\n",
    "                found = False\n",
    "                for i in range(0, len(first_words_lst)):\n",
    "                    first_words = first_words_lst[i]\n",
    "                    question_a = [word.replace('.\\n', '.') for word in question_a]\n",
    "                    first_word = question_a[question_a.index(\".\")+1]\n",
    "                    if ((len(list(filter(lambda word: (word == (first_word.lower())), first_words))))>0):\n",
    "                        params.append((2*(i+1)))\n",
    "                        found = True\n",
    "                        break\n",
    "                if (not(found)):\n",
    "                    params.append(0)\n",
    "                        \n",
    "            else:\n",
    "                found = False\n",
    "                for i in range(0, len(first_words_lst)):\n",
    "                    first_words = first_words_lst[i]\n",
    "                    if ((len(list(filter(lambda word: (word == (question_a[0].lower())), first_words))))>0):\n",
    "                        params.append((2*(i+1)))\n",
    "                        found = True\n",
    "                        break\n",
    "                if (not(found)):\n",
    "                    params.append(0)\n",
    "\n",
    "        else:\n",
    "            cmd_terms_lst = [[\"calculate\", \"classify\", \"formulate\", \"integrate\", \"measure\", \"plot\", \"select\"], \n",
    "                         [\"define\", \"determine\", \"differentiate\", \"estimate\", \"find\", \"label\", \"recall\", \"state\", \"list\", \"identify\", \"predict\"], \n",
    "                         [\"annotate\", \"comment\", \"deduce\", \"derive\", \"distinguish\", \"find\", \"otherwise\", \"prove\", \"solve\", \"suggest\"], \n",
    "                         [\"apply\", \"draw\", \"describe\", \"distinguish\", \"trace\", \"outline\", \"use\", \"verify\"], \n",
    "                        [\"construct\", \"demonstrate\", \"explore\", \"justify\"], \n",
    "                        [\"compare\", \"contrast\", \"critique\", \"deduce\", \"explain\", \"interpret\"],\n",
    "                        [\"examine\", \"investigate\", \"synthesize\"], \n",
    "                        [\"analyze\", \"discuss\", \"evaluate\", \"justify\", \"create\", \"design\"]]\n",
    "            found = False\n",
    "            for word in question_a:\n",
    "                for i in range(0, len(cmd_terms_lst)):\n",
    "                    cmd_terms = cmd_terms_lst[i]\n",
    "                    if word in cmd_terms:\n",
    "                        params.append((i+1))\n",
    "                        found = True\n",
    "                        break\n",
    "                if found:\n",
    "                    break\n",
    "            if (not(found)):\n",
    "                params.append(0)\n",
    "    return params\n",
    "\n",
    "\n",
    "def get_open_ended_nature():\n",
    "    u_questions = []\n",
    "    params = []\n",
    "    with open(\"questions.txt\") as file:\n",
    "        for line in file:\n",
    "            temp = str(line.lower())\n",
    "            u_question = temp.replace(\"?\", \" ?\")\n",
    "            u_question = u_question.replace(\".\", \" .\").split(' ')\n",
    "            u_questions.append(u_question)\n",
    "    \n",
    "    file.close()\n",
    "    \n",
    "    return p(u_questions, params)"
   ]
  },
  {
   "cell_type": "code",
   "execution_count": 6,
   "id": "65c771bd",
   "metadata": {},
   "outputs": [],
   "source": [
    "def process_questions(story_words_relevance, story_unique_words):\n",
    "    questions = []\n",
    "    params = {\"relevance\": [], \"open_ended\": []} # index+1 represents question number in the list\n",
    "    with open(\"questions.txt\") as file:\n",
    "        for line in file:\n",
    "            questions.append(line)\n",
    "    file.close()\n",
    "    for question in questions:\n",
    "        stop_words = set(stopwords.words('english'))\n",
    "        question = question.lower()\n",
    "        word_tokens = word_tokenize(question)\n",
    "\n",
    "        filtered_question = [w for w in word_tokens if not w.lower() in stop_words]\n",
    "        \n",
    "        filtered_question = []\n",
    "        \n",
    "        for w in word_tokens:\n",
    "            if w not in stop_words:\n",
    "                filtered_question.append(w)\n",
    "        \n",
    "        question_relevance = get_question_relevance(story_words_relevance, filtered_question, story_unique_words)\n",
    "        params[\"relevance\"].append(question_relevance)\n",
    "        # processed question stored in filtered_question\n",
    "    \n",
    "    params[\"open_ended\"] = get_open_ended_nature()\n",
    "    return params\n"
   ]
  },
  {
   "cell_type": "code",
   "execution_count": 7,
   "id": "3507b5c7",
   "metadata": {},
   "outputs": [],
   "source": [
    "def get_unprocessed_questions():\n",
    "    questions_lst = []\n",
    "    file = open(\"questions.txt\", 'r')\n",
    "    lines = file.readlines()\n",
    "    for line in lines:\n",
    "        questions_lst.append(line)\n",
    "    file.close()\n",
    "    return questions_lst"
   ]
  },
  {
   "cell_type": "code",
   "execution_count": 8,
   "id": "721597ae",
   "metadata": {
    "scrolled": false
   },
   "outputs": [],
   "source": [
    "def test():\n",
    "    [story_words_relevance, story_unique_words] = process_story()\n",
    "    return process_questions(story_words_relevance, story_unique_words)\n",
    "     \n",
    "result = test()"
   ]
  },
  {
   "cell_type": "code",
   "execution_count": 9,
   "id": "5168e925",
   "metadata": {
    "scrolled": false
   },
   "outputs": [],
   "source": [
    "re = result[\"relevance\"]\n",
    "op = result[\"open_ended\"]\n",
    "\n",
    "import numpy as np\n",
    "\n",
    "questions = get_unprocessed_questions()   \n",
    "rel = np.array(re)\n",
    "ope = np.array(op)\n",
    "rankings = {}\n",
    "i = 0\n",
    "unsorted_ranks = rel+ope\n",
    "for rank in unsorted_ranks:\n",
    "    rankings[questions[i]] = rank\n",
    "    i += 1\n",
    "# sorted_ranks = np.sort(rankings.keys())\n",
    "# sorted_rankings = {}\n",
    "# for rank in sorted_ranks:\n",
    "#     sorted_ranks"
   ]
  },
  {
   "cell_type": "code",
   "execution_count": null,
   "id": "252dcec2",
   "metadata": {},
   "outputs": [],
   "source": []
  },
  {
   "cell_type": "code",
   "execution_count": 13,
   "id": "46b90d15",
   "metadata": {},
   "outputs": [],
   "source": [
    "# unsorted_ranks\n",
    "sorted_ranks = dict(sorted(rankings.items(), key=lambda item: item[1]))"
   ]
  },
  {
   "cell_type": "code",
   "execution_count": 15,
   "id": "62572579",
   "metadata": {},
   "outputs": [],
   "source": [
    "sorted_questions = []\n",
    "for q in (sorted_ranks.keys()):\n",
    "    if sorted_ranks[q] >= 7:\n",
    "        sorted_questions.append(q)\n",
    "sorted_questions.reverse()"
   ]
  },
  {
   "cell_type": "code",
   "execution_count": 16,
   "id": "d46942db",
   "metadata": {},
   "outputs": [
    {
     "data": {
      "text/plain": [
       "['Analyze the context of the plot of the given story.\\n',\n",
       " 'Why does the house beat \"Safe, Safe, Safe\" in the short story \"A Haunted House\" by Virginia Woolf?\\n',\n",
       " 'A moment later the light had faded. Out in the garden then? But the trees spun darkness for a wandering beam of sun. So fine, so rare, coolly sunk beneath the surface the beam I sought always burnt behind the glass. Death was the glass; death was between us; coming to the woman first, hundreds of years ago, leaving the house, sealing all the windows; the rooms were darkened. He left it, left her, went North, went East, saw the stars turned in the Southern sky; sought the house, found it dropped beneath the Downs. \"Safe, safe, safe,\" the pulse of the house beat gladly. \"The Treasure yours.\"The wind roars up the avenue. Trees stoop and bend this way and that. Moonbeams splash and spill wildly in the rain. But the beam of the lamp falls straight from the window. The candle burns stiff and still. Wandering through the house, opening the windows, whispering not to wake us, the ghostly couple seek their joy. A moment later the light had faded. Out in the garden then? But the trees spun darkness for a wandering beam of sun. So fine, so rare, coolly sunk beneath the surface the beam I sought always burnt behind the glass. Death was the glass; death was between us; coming to the woman first, hundreds of years ago, leaving the house, sealing all the windows; the rooms were darkened. He left it, left her, went North, went East, saw the stars turned in the Southern sky; sought the house, found it dropped beneath the Downs. \"Safe, safe, safe,\" the pulse of the house beat gladly. \"The Treasure yours.\"The wind roars up the avenue. Trees stoop and bend this way and that. Moonbeams splash and spill wildly in the rain. But the beam of the lamp falls straight from the window. The candle burns stiff and still. Wandering through the house, opening the windows, whispering not to wake us, the ghostly couple seek their joy.',\n",
       " 'how is the theme of \"A Haunted House\"? can you help me with the summary of the story \"a haunted house\"?\\n']"
      ]
     },
     "execution_count": 16,
     "metadata": {},
     "output_type": "execute_result"
    }
   ],
   "source": [
    "sorted_questions"
   ]
  },
  {
   "cell_type": "code",
   "execution_count": null,
   "id": "0e2a00b0",
   "metadata": {},
   "outputs": [],
   "source": []
  },
  {
   "cell_type": "code",
   "execution_count": null,
   "id": "b4b2f9c8",
   "metadata": {},
   "outputs": [],
   "source": []
  },
  {
   "cell_type": "code",
   "execution_count": null,
   "id": "c93de08e",
   "metadata": {},
   "outputs": [],
   "source": []
  },
  {
   "cell_type": "code",
   "execution_count": null,
   "id": "00a497c0",
   "metadata": {},
   "outputs": [],
   "source": []
  },
  {
   "cell_type": "code",
   "execution_count": null,
   "id": "b3472b69",
   "metadata": {},
   "outputs": [],
   "source": []
  },
  {
   "cell_type": "code",
   "execution_count": null,
   "id": "2a1e1fe7",
   "metadata": {},
   "outputs": [],
   "source": []
  },
  {
   "cell_type": "code",
   "execution_count": null,
   "id": "430c826e",
   "metadata": {},
   "outputs": [],
   "source": []
  }
 ],
 "metadata": {
  "kernelspec": {
   "display_name": "Python 3 (ipykernel)",
   "language": "python",
   "name": "python3"
  },
  "language_info": {
   "codemirror_mode": {
    "name": "ipython",
    "version": 3
   },
   "file_extension": ".py",
   "mimetype": "text/x-python",
   "name": "python",
   "nbconvert_exporter": "python",
   "pygments_lexer": "ipython3",
   "version": "3.9.7"
  }
 },
 "nbformat": 4,
 "nbformat_minor": 5
}
